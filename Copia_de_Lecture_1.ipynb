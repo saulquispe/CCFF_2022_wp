{
  "cells": [
    {
      "cell_type": "markdown",
      "metadata": {
        "id": "view-in-github",
        "colab_type": "text"
      },
      "source": [
        "<a href=\"https://colab.research.google.com/github/saulquispe/CCFF_2022_wp/blob/master/Copia_de_Lecture_1.ipynb\" target=\"_parent\"><img src=\"https://colab.research.google.com/assets/colab-badge.svg\" alt=\"Open In Colab\"/></a>"
      ]
    },
    {
      "cell_type": "markdown",
      "source": [
        "# Summary of today:\n",
        "1. Intro to CME 193 ~3min\n",
        "2. Python Foundations\n",
        "* Variable \n",
        "* Operator\n",
        "* Strings \n",
        "* Control Flow \n",
        "* Exception \n",
        "* Functions \n",
        "* Collections"
      ],
      "metadata": {
        "id": "3fufqWYLlYiV"
      }
    },
    {
      "cell_type": "markdown",
      "metadata": {
        "id": "IB20Lo4pcbHr"
      },
      "source": [
        "# CME 193 - Introduction to Scientific Python\n",
        "\n",
        "\n",
        "## Course Logistics\n",
        "\n",
        "**Instructor:**  Benson Zu(zuyeyang@stanford.edu)\n",
        "\n",
        "**Course website:** [cme193.stanford.edu](http://cme193.stanford.edu).\n",
        "Please check there for any materials related for the course (and let me know if something needs to be updated).\n",
        "\n",
        "**Class:** We will go over the 50 min workshop together with some post-lectue exercises. Those exericise are good chances to try out what you learn, and ask for help if you're stuck.  You aren't required to submit solutions to the exercises, and should focus on exercises you find most interesting if there are multiple options.\n",
        "\n",
        "**Homework:** We'll have 2 homeworks, which should not be difficult or time consuming, but a chance to practice what we cover in class. Feel free to discuss the problems with other students in the class, but the final code you submit should be written by you.\n",
        "\n",
        "**Grading:** This class is offered on a credit/no-credit basis.  Really, you're going to get out of it what you put into it.  My assumption is that you are taking the course because you see it as relevant to your education, and will try to learn material that you see as most important.\n",
        "\n",
        "**Office hours:** \n",
        "12:30pm~1:30 PM on Wednesdays in Huang basement (in front of ICME), 7pm ~ 8pm on Wednesdays Zoom"
      ]
    },
    {
      "cell_type": "markdown",
      "metadata": {
        "id": "CyZW8H_CcbHu"
      },
      "source": [
        "# Overview of Course\n",
        "\n",
        "You can find a list of topics we plan to cover on the [course website](http://web.stanford.edu/class/cme193/syllabus.html).  \n",
        "\n",
        "Here is a tentative list of lectures:\n",
        "1. Python basics\n",
        "1. Python Class & Object\n",
        "1. Linear algebra (NumPy)\n",
        "1. Numerical algorithms (NumPy)\n",
        "1. Scientific computing (SciPy)\n",
        "1. Data science (Pandas)\n",
        "1. Machine learning (scikit-learn)\n",
        "1. Deep learning (PyTorch)\n",
        "\n",
        "The goal of the course is to get you started with using Python for scientific computing.\n",
        "* We **are** going to cover common packages for linear algebra, optimization, and data science\n",
        "* We are **not** going to cover all of the Python language, or all of its applications\n",
        "    * We will cover aspects of the Python language as they are needed for our purposes\n",
        "\n",
        "This course is designed for\n",
        "* People who already know how to program (maybe not in Python)\n",
        "* People who want to use Python for research/coursework in a scientific or engineering discipline for modeling, simulations, or data science\n",
        "\n",
        "You don't need to have an expert background in programming or scientific computing to take this course.  Everyone starts somewhere, and if your interests are aligned with the goals of the course you should be ok."
      ]
    },
    {
      "cell_type": "markdown",
      "metadata": {
        "id": "SSKIUbzqcbHv"
      },
      "source": [
        "# Python"
      ]
    },
    {
      "cell_type": "markdown",
      "metadata": {
        "id": "p9aG5dtscbHw"
      },
      "source": [
        "![xkcd_python](https://imgs.xkcd.com/comics/python.png)\n",
        "(From [xkcd](https://xkcd.com/))"
      ]
    },
    {
      "cell_type": "code",
      "execution_count": null,
      "metadata": {
        "id": "UqyHntC_cbHw",
        "colab": {
          "base_uri": "https://localhost:8080/"
        },
        "outputId": "ec2d4f79-f4e2-4a1a-c8a9-a0017b4eb162"
      },
      "outputs": [
        {
          "output_type": "stream",
          "name": "stdout",
          "text": [
            "Hello, world!\n"
          ]
        }
      ],
      "source": [
        "print(\"Hello, world!\")"
      ]
    },
    {
      "cell_type": "code",
      "source": [
        "# print value of pi : I am a comment uasing hash mark\n",
        "# The pi (π ) is a constant of the math library in Python that returns the value 3.14...\n",
        "import math\n",
        "print(math.pi)"
      ],
      "metadata": {
        "id": "3Yeai9_k8qbD",
        "colab": {
          "base_uri": "https://localhost:8080/"
        },
        "outputId": "bf352c4c-a519-48d5-9627-eab67d58b201"
      },
      "execution_count": null,
      "outputs": [
        {
          "output_type": "stream",
          "name": "stdout",
          "text": [
            "3.141592653589793\n"
          ]
        }
      ]
    },
    {
      "cell_type": "code",
      "source": [
        "# single and double quotes are interchable\n",
        "'a' == \"a\""
      ],
      "metadata": {
        "id": "q2RsxQ6-rY6d",
        "colab": {
          "base_uri": "https://localhost:8080/"
        },
        "outputId": "46423438-9ad2-439c-9615-a21555e05180"
      },
      "execution_count": null,
      "outputs": [
        {
          "output_type": "execute_result",
          "data": {
            "text/plain": [
              "True"
            ]
          },
          "metadata": {},
          "execution_count": 4
        }
      ]
    },
    {
      "cell_type": "markdown",
      "source": [
        "# Basic Section (Start)"
      ],
      "metadata": {
        "id": "w6Oof-gM7WHO"
      }
    },
    {
      "cell_type": "markdown",
      "metadata": {
        "id": "BdGrklkzcbHx"
      },
      "source": [
        "## Variables\n",
        "\n",
        "One of the main differences in python compared to other languages you might be familiar with is that variables are not declared and are not strongly typed"
      ]
    },
    {
      "cell_type": "code",
      "execution_count": null,
      "metadata": {
        "id": "FMBoJLc-cbHy",
        "colab": {
          "base_uri": "https://localhost:8080/"
        },
        "outputId": "a44517db-f803-49d8-febf-c68534f307e4"
      },
      "outputs": [
        {
          "output_type": "stream",
          "name": "stdout",
          "text": [
            "1\n"
          ]
        }
      ],
      "source": [
        "x = 1\n",
        "print(x)"
      ]
    },
    {
      "cell_type": "code",
      "source": [
        "x = 1\n",
        "print(type(x))"
      ],
      "metadata": {
        "id": "EhmHS2f-n0UX",
        "colab": {
          "base_uri": "https://localhost:8080/"
        },
        "outputId": "6ef01e03-9ff9-4a52-c40b-cf5f55b0fec8"
      },
      "execution_count": null,
      "outputs": [
        {
          "output_type": "stream",
          "name": "stdout",
          "text": [
            "<class 'int'>\n"
          ]
        }
      ]
    },
    {
      "cell_type": "code",
      "execution_count": null,
      "metadata": {
        "id": "y5N9BPNdcbHz",
        "colab": {
          "base_uri": "https://localhost:8080/"
        },
        "outputId": "d1e17b9f-d52f-4497-b1ab-5e1b540a6859"
      },
      "outputs": [
        {
          "output_type": "stream",
          "name": "stdout",
          "text": [
            "1.0\n",
            "<class 'float'>\n",
            "string\n",
            "<class 'str'>\n"
          ]
        }
      ],
      "source": [
        "x = 1.0\n",
        "print(x)\n",
        "print(type(x))\n",
        "\n",
        "x = \"string\"\n",
        "print(x)\n",
        "print(type(x))"
      ]
    },
    {
      "cell_type": "code",
      "source": [
        "1 == 1.0"
      ],
      "metadata": {
        "colab": {
          "base_uri": "https://localhost:8080/"
        },
        "id": "y_VqIYrPV5Ju",
        "outputId": "41bfd4da-503c-416f-deff-7b6e818501a4"
      },
      "execution_count": null,
      "outputs": [
        {
          "output_type": "execute_result",
          "data": {
            "text/plain": [
              "True"
            ]
          },
          "metadata": {},
          "execution_count": 8
        }
      ]
    },
    {
      "cell_type": "code",
      "source": [],
      "metadata": {
        "id": "Ts0tCh80V5U3"
      },
      "execution_count": null,
      "outputs": []
    },
    {
      "cell_type": "code",
      "source": [
        "x = 1\n",
        "type(x)"
      ],
      "metadata": {
        "colab": {
          "base_uri": "https://localhost:8080/"
        },
        "id": "iwNlFABCxusH",
        "outputId": "84c827e7-7db9-4179-d244-ee56b5423992"
      },
      "execution_count": null,
      "outputs": [
        {
          "output_type": "execute_result",
          "data": {
            "text/plain": [
              "int"
            ]
          },
          "metadata": {},
          "execution_count": 9
        }
      ]
    },
    {
      "cell_type": "markdown",
      "metadata": {
        "id": "nkYosle9cbH1"
      },
      "source": [
        "## Basic Arithmetic\n",
        "\n",
        "Math Operators:\n",
        "`+ - * / // % **`\n",
        "\n",
        "Boolean expressions:\n",
        "* keywords: `True` and `False` (note capitalization)\n",
        "- False = 0, True = 1\n",
        "    - C1 and C2 = min (C1, C2)\n",
        "    - C1 or C2 = max(C1, C2)\n",
        "* `==` equals: `5 == 5` yields `True`\n",
        "* `!=` does not equal: `5 != 5` yields `False`\n",
        "* `>` greater than: `5 > 4` yields `True`\n",
        "* `>=` greater than or equal: `5 >= 5` yields `True`\n",
        "* Similarly, we have `<` and `<=`.\n",
        "\n",
        "Logical operators:\n",
        "* `and`, `or`, and `not`\n",
        "* `True and False`\n",
        "* `True or False`\n",
        "* `not True`"
      ]
    },
    {
      "cell_type": "code",
      "source": [
        "# Dividing 0 is an error\n",
        "4 / 2"
      ],
      "metadata": {
        "id": "nUWU03T6o82j",
        "colab": {
          "base_uri": "https://localhost:8080/"
        },
        "outputId": "07b866a0-2165-4f81-8d4f-7f7b947669f9"
      },
      "execution_count": null,
      "outputs": [
        {
          "output_type": "execute_result",
          "data": {
            "text/plain": [
              "2.0"
            ]
          },
          "metadata": {},
          "execution_count": 13
        }
      ]
    },
    {
      "cell_type": "code",
      "execution_count": null,
      "metadata": {
        "id": "AGVUfzrccbH3",
        "colab": {
          "base_uri": "https://localhost:8080/"
        },
        "outputId": "45b1df65-a87f-407f-d9a6-dd9b5b8d68d0"
      },
      "outputs": [
        {
          "output_type": "execute_result",
          "data": {
            "text/plain": [
              "float"
            ]
          },
          "metadata": {},
          "execution_count": 11
        }
      ],
      "source": [
        "#The result of regular division is always a float\n",
        "type(4/2)"
      ]
    },
    {
      "cell_type": "code",
      "execution_count": null,
      "metadata": {
        "id": "4cQkg98-cbH3",
        "colab": {
          "base_uri": "https://localhost:8080/"
        },
        "outputId": "2ed52a49-a416-49ad-e7a2-6ab8e065a93b"
      },
      "outputs": [
        {
          "output_type": "execute_result",
          "data": {
            "text/plain": [
              "2.0"
            ]
          },
          "metadata": {},
          "execution_count": 16
        }
      ],
      "source": [
        "4.0//2 #Floor division"
      ]
    },
    {
      "cell_type": "code",
      "execution_count": null,
      "metadata": {
        "id": "S5NLeVRDcbH3",
        "colab": {
          "base_uri": "https://localhost:8080/"
        },
        "outputId": "f7f00dfe-fffa-4874-bdb5-627d3eb1fee8"
      },
      "outputs": [
        {
          "output_type": "execute_result",
          "data": {
            "text/plain": [
              "float"
            ]
          },
          "metadata": {},
          "execution_count": 17
        }
      ],
      "source": [
        "type(5.0//3) #Floor division #=1 remainder 2"
      ]
    },
    {
      "cell_type": "code",
      "execution_count": null,
      "metadata": {
        "id": "G-t-fgLXcbH3"
      },
      "outputs": [],
      "source": [
        "5.0//3 #Floor Division"
      ]
    },
    {
      "cell_type": "code",
      "execution_count": null,
      "metadata": {
        "id": "gQXUdO4CcbH4",
        "colab": {
          "base_uri": "https://localhost:8080/"
        },
        "outputId": "f24dbe8f-c8d3-482c-a9c8-88ce922b4244"
      },
      "outputs": [
        {
          "output_type": "execute_result",
          "data": {
            "text/plain": [
              "2"
            ]
          },
          "metadata": {},
          "execution_count": 18
        }
      ],
      "source": [
        "5%3 #Modulus"
      ]
    },
    {
      "cell_type": "code",
      "execution_count": null,
      "metadata": {
        "id": "D0XEe3XecbH4",
        "colab": {
          "base_uri": "https://localhost:8080/"
        },
        "outputId": "456bbb71-6df0-49d8-beec-60875bd32c71"
      },
      "outputs": [
        {
          "output_type": "execute_result",
          "data": {
            "text/plain": [
              "64"
            ]
          },
          "metadata": {},
          "execution_count": 19
        }
      ],
      "source": [
        "4**3 #Exponentiation"
      ]
    },
    {
      "cell_type": "code",
      "source": [
        "x = 5.0\n",
        "y = 5\n",
        "\n",
        "x == y"
      ],
      "metadata": {
        "id": "agl9SgW80Lo3",
        "colab": {
          "base_uri": "https://localhost:8080/"
        },
        "outputId": "adfc0a3c-b187-47f8-b06e-7c673537c9b8"
      },
      "execution_count": null,
      "outputs": [
        {
          "output_type": "execute_result",
          "data": {
            "text/plain": [
              "True"
            ]
          },
          "metadata": {},
          "execution_count": 20
        }
      ]
    },
    {
      "cell_type": "code",
      "source": [
        "print(type(x), type(y))"
      ],
      "metadata": {
        "id": "J10_TdDUons4",
        "colab": {
          "base_uri": "https://localhost:8080/"
        },
        "outputId": "6cc130b5-8b8f-4949-aa6a-75a1115bdaff"
      },
      "execution_count": null,
      "outputs": [
        {
          "output_type": "stream",
          "name": "stdout",
          "text": [
            "<class 'float'> <class 'int'>\n"
          ]
        }
      ]
    },
    {
      "cell_type": "code",
      "source": [
        "x = 5.0\n",
        "y = 5\n",
        "print(\"x == y: \" + str(x == y))\n",
        "print(\"x is y: \" + str(x is y))\n",
        "\n",
        "#== checks for equality - if the two variables point at values are equal.\n",
        "#is checks for identity - if the two variables point to the exact same object. "
      ],
      "metadata": {
        "id": "Wgqp32w8z-ks",
        "colab": {
          "base_uri": "https://localhost:8080/"
        },
        "outputId": "84bddc85-f167-4e31-d38c-62ae9fdfeaeb"
      },
      "execution_count": null,
      "outputs": [
        {
          "output_type": "stream",
          "name": "stdout",
          "text": [
            "x == y: True\n",
            "x is y: False\n"
          ]
        }
      ]
    },
    {
      "cell_type": "code",
      "source": [
        "s = \"example\"\n",
        "answer = \"example\"\n",
        "print(\"s == 'example': \" + str(s == answer))\n",
        "print(\"s is 'example': \" + str(s is answer))"
      ],
      "metadata": {
        "id": "5OmbXD0a0lL5",
        "colab": {
          "base_uri": "https://localhost:8080/"
        },
        "outputId": "54b71c88-70c5-4048-c32e-997c47eedeeb"
      },
      "execution_count": null,
      "outputs": [
        {
          "output_type": "stream",
          "name": "stdout",
          "text": [
            "s == 'example': True\n",
            "s is 'example': True\n"
          ]
        }
      ]
    },
    {
      "cell_type": "code",
      "execution_count": null,
      "metadata": {
        "id": "bA-zIPGZcbH2",
        "colab": {
          "base_uri": "https://localhost:8080/"
        },
        "outputId": "960a6ca4-d975-40fc-bfa0-9cb49ec02580"
      },
      "outputs": [
        {
          "output_type": "execute_result",
          "data": {
            "text/plain": [
              "False"
            ]
          },
          "metadata": {},
          "execution_count": 25
        }
      ],
      "source": [
        "True and False # some other language use '&' for 'and', '|' for 'or' : NOT IN PYTHON"
      ]
    },
    {
      "cell_type": "code",
      "source": [
        "not 5 == 5.0 #equivalent to 5 != 5.0"
      ],
      "metadata": {
        "id": "_NiNaDTa0Gjo",
        "colab": {
          "base_uri": "https://localhost:8080/"
        },
        "outputId": "047acb03-ebc3-4c38-82bf-53e414751938"
      },
      "execution_count": null,
      "outputs": [
        {
          "output_type": "execute_result",
          "data": {
            "text/plain": [
              "False"
            ]
          },
          "metadata": {},
          "execution_count": 26
        }
      ]
    },
    {
      "cell_type": "markdown",
      "metadata": {
        "id": "5NpmPWnlcbH5"
      },
      "source": [
        "## Strings\n",
        "\n",
        "Concatenation: `str1 + str2`\n",
        "\n",
        "Printing: `print(str1)`"
      ]
    },
    {
      "cell_type": "code",
      "execution_count": null,
      "metadata": {
        "id": "eKSQF5MNcbH5",
        "colab": {
          "base_uri": "https://localhost:8080/",
          "height": 56
        },
        "outputId": "dc361b91-c304-4cfc-ff59-5ec0395a72e8"
      },
      "outputs": [
        {
          "output_type": "execute_result",
          "data": {
            "text/plain": [
              "\"Alice's numbers are 20 and 52, and their sum is 72\""
            ],
            "application/vnd.google.colaboratory.intrinsic+json": {
              "type": "string"
            }
          },
          "metadata": {},
          "execution_count": 28
        }
      ],
      "source": [
        "str1 = \"Alice's numbers are 20 and 52, \"\n",
        "str2 = \"and their sum is 72\"\n",
        "str3 = str1 + str2\n",
        "str3"
      ]
    },
    {
      "cell_type": "markdown",
      "metadata": {
        "id": "InSoz24QcbH5"
      },
      "source": [
        "String Formatting:"
      ]
    },
    {
      "cell_type": "code",
      "execution_count": null,
      "metadata": {
        "id": "84Llsw9RcbH6",
        "colab": {
          "base_uri": "https://localhost:8080/",
          "height": 56
        },
        "outputId": "6e2749d3-65a9-48fa-b5d5-300b152b3348"
      },
      "outputs": [
        {
          "output_type": "execute_result",
          "data": {
            "text/plain": [
              "\"Benson's numbers are 20 and 52, and their sum is 72\""
            ],
            "application/vnd.google.colaboratory.intrinsic+json": {
              "type": "string"
            }
          },
          "metadata": {},
          "execution_count": 31
        }
      ],
      "source": [
        "# f-string\n",
        "\n",
        "x = 20\n",
        "y = 52\n",
        "name = \"Benson\"\n",
        "\n",
        "#f-string\n",
        "str1 = f\"{name}'s numbers are {x} and {y}, \"\n",
        "str2 = f\"and their sum is {x + y}\"\n",
        "str3 = str1 + str2\n",
        "str3"
      ]
    },
    {
      "cell_type": "markdown",
      "source": [
        "(Optional) Old School String Format"
      ],
      "metadata": {
        "id": "he8_hSKW2IWk"
      }
    },
    {
      "cell_type": "code",
      "execution_count": null,
      "metadata": {
        "id": "WG8MA1BAcbH6"
      },
      "outputs": [],
      "source": [
        "str1 = \"a: %s\" % \"string\"\n",
        "print(str1)\n",
        "str2 = \"b: %f, %s, %d\" % (1.0, 'hello', 5)\n",
        "print(str2)\n",
        "str3 = \"c: {}\".format(3.14)\n",
        "print(str3)"
      ]
    },
    {
      "cell_type": "code",
      "execution_count": null,
      "metadata": {
        "id": "o2R732-VcbH6"
      },
      "outputs": [],
      "source": [
        "# some methods\n",
        "str1 = \"Hello, World!\"\n",
        "print(str1)\n",
        "print(str1.upper())\n",
        "print(str1.lower())"
      ]
    },
    {
      "cell_type": "code",
      "execution_count": null,
      "metadata": {
        "id": "jl-sTFO4cbH7"
      },
      "outputs": [],
      "source": [
        "str1 = str1.lower()\n",
        "str1"
      ]
    },
    {
      "cell_type": "code",
      "execution_count": null,
      "metadata": {
        "id": "Ha8YjsODcbH7"
      },
      "outputs": [],
      "source": [
        "str1.replace?"
      ]
    },
    {
      "cell_type": "code",
      "execution_count": null,
      "metadata": {
        "id": "YMhohStZcbH7"
      },
      "outputs": [],
      "source": [
        "str1.replace('l', 'p')"
      ]
    },
    {
      "cell_type": "markdown",
      "metadata": {
        "id": "BuvH2ODKcbH7"
      },
      "source": [
        "## Control Flow\n",
        "\n",
        "If statements:\n",
        "```python\n",
        "if condition1:\n",
        "  statements1\n",
        "elif condition2:\n",
        "  statements2\n",
        "elif condition3:\n",
        "  statements3\n",
        "else:\n",
        "  statements4\n",
        "```"
      ]
    },
    {
      "cell_type": "code",
      "execution_count": null,
      "metadata": {
        "id": "1eYcDMetcbH8",
        "colab": {
          "base_uri": "https://localhost:8080/"
        },
        "outputId": "c443a3af-3ab8-45ef-864f-0a42f48b2b6c"
      },
      "outputs": [
        {
          "output_type": "stream",
          "name": "stdout",
          "text": [
            "I am here\n",
            "x is 3\n"
          ]
        }
      ],
      "source": [
        "x = 3\n",
        "y = 2\n",
        "\n",
        "if x == y:\n",
        "    print(\"The value of x is the same as value of y\")\n",
        "elif x == 3:\n",
        "    print(\"I am here\")\n",
        "    print(\"x is 3\")\n",
        "else:\n",
        "    print(\"x is something else\")"
      ]
    },
    {
      "cell_type": "markdown",
      "metadata": {
        "id": "RwNgRLrCcbH8"
      },
      "source": [
        "**For loops**\n"
      ]
    },
    {
      "cell_type": "code",
      "execution_count": null,
      "metadata": {
        "id": "YLdLhZR1cbH8",
        "colab": {
          "base_uri": "https://localhost:8080/"
        },
        "outputId": "99767571-edab-4f7e-cea4-b9a5924fec3d"
      },
      "outputs": [
        {
          "output_type": "stream",
          "name": "stdout",
          "text": [
            "0, next loop\n",
            "1, next loop\n",
            "2, next loop\n",
            "3, next loop\n"
          ]
        }
      ],
      "source": [
        "for i in range(4): # default - start at 0, increment by 1\n",
        "    print(f\"{i}, next loop\")"
      ]
    },
    {
      "cell_type": "code",
      "source": [
        "?range"
      ],
      "metadata": {
        "id": "qLhGzbGg7o09"
      },
      "execution_count": null,
      "outputs": []
    },
    {
      "cell_type": "code",
      "source": [
        "for i in range(10, 2, -2): # inputs are start, stop, step\n",
        "    print(i)"
      ],
      "metadata": {
        "id": "MPyXYfnA9IsX",
        "colab": {
          "base_uri": "https://localhost:8080/"
        },
        "outputId": "f6cc6adb-5120-45e3-d868-e426fbbd33bf"
      },
      "execution_count": null,
      "outputs": [
        {
          "output_type": "stream",
          "name": "stdout",
          "text": [
            "10\n",
            "8\n",
            "6\n",
            "4\n"
          ]
        }
      ]
    },
    {
      "cell_type": "markdown",
      "metadata": {
        "id": "NcNxRCDtcbH8"
      },
      "source": [
        "**while loops**"
      ]
    },
    {
      "cell_type": "code",
      "execution_count": null,
      "metadata": {
        "id": "IhOWQZpKcbH9",
        "colab": {
          "base_uri": "https://localhost:8080/"
        },
        "outputId": "ccadf569-82cd-456f-a621-f85a3740c558"
      },
      "outputs": [
        {
          "output_type": "stream",
          "name": "stdout",
          "text": [
            "1\n",
            "2\n",
            "3\n",
            "4\n",
            "5\n",
            "6\n",
            "7\n",
            "8\n",
            "9\n",
            "Finished\n"
          ]
        }
      ],
      "source": [
        "# Find all positive integer whose square < 100\n",
        "i = 1\n",
        "while i**2 < 100:\n",
        "    print(i)\n",
        "    i += 1      #i += 1 is the same as i = i + 1\n",
        "print(\"Finished\")"
      ]
    },
    {
      "cell_type": "markdown",
      "metadata": {
        "id": "e416dtcqcbH9"
      },
      "source": [
        "**continue** - skip the rest of the loop\n",
        "\n",
        "**break** - exit from the loop"
      ]
    },
    {
      "cell_type": "code",
      "execution_count": null,
      "metadata": {
        "id": "n0MAplWdcbH9",
        "colab": {
          "base_uri": "https://localhost:8080/"
        },
        "outputId": "59fed792-5d6f-48b0-c72c-3ee6e37d418f"
      },
      "outputs": [
        {
          "output_type": "stream",
          "name": "stdout",
          "text": [
            "Found 1, an odd number\n",
            "Found 2, an even number, Continue!\n",
            "Found 3, an odd number\n",
            "Found 4, an even number, Continue!\n",
            "Found 5, an odd number\n",
            "Found 6, an even number, Continue!\n",
            "Found 7, an odd number\n",
            "Found 8, an even number, Continue!\n",
            "Found 9, an odd number\n",
            "Finished\n"
          ]
        }
      ],
      "source": [
        "# distinguish even or odd number\n",
        "for num in range(1, 10):\n",
        "    if num % 2 == 0:\n",
        "        print(f'Found {num}, an even number, Continue!')\n",
        "        continue # this jumps us back to the top\n",
        "        \n",
        "    print(f\"Found {num}, an odd number\")\n",
        "\n",
        "print('Finished')"
      ]
    },
    {
      "cell_type": "code",
      "execution_count": null,
      "metadata": {
        "id": "_Lie5ddEcbH-",
        "colab": {
          "base_uri": "https://localhost:8080/"
        },
        "outputId": "769c5255-68b2-4807-d70e-154419363a8f"
      },
      "outputs": [
        {
          "output_type": "stream",
          "name": "stdout",
          "text": [
            "Found 1, an odd number\n",
            "Found 2, an even number, STOP!\n",
            "Finished\n"
          ]
        }
      ],
      "source": [
        "for num in range(1, 10):\n",
        "    if num % 2 == 0: # if n divisible by x\n",
        "        print(f'Found {num}, an even number, STOP!')\n",
        "        break\n",
        "    print(f\"Found {num}, an odd number\")\n",
        "print('Finished')"
      ]
    },
    {
      "cell_type": "code",
      "execution_count": null,
      "metadata": {
        "id": "nv7ncYB1cbH-",
        "colab": {
          "base_uri": "https://localhost:8080/"
        },
        "outputId": "a5d50865-1827-4656-a167-ecfd9f55f37c"
      },
      "outputs": [
        {
          "output_type": "stream",
          "name": "stdout",
          "text": [
            "Outer Loop 0\n",
            "j: 0\n",
            "Outer Loop 1\n",
            "j: 0\n",
            "Outer Loop 2\n",
            "j: 0\n"
          ]
        }
      ],
      "source": [
        "#continue/break statement only continue/breaks its direct parent loop statement\n",
        "for i in range(3):\n",
        "    print(f\"Outer Loop {i}\") \n",
        "    for j in range(3):\n",
        "      print(f\"j: {j}\") \n",
        "      break\n",
        "      print(\"End of inner loop\")\n",
        "    #jump to here after break"
      ]
    },
    {
      "cell_type": "markdown",
      "metadata": {
        "id": "6jRgPK5NcbH-"
      },
      "source": [
        "**pass** does nothing"
      ]
    },
    {
      "cell_type": "code",
      "execution_count": null,
      "metadata": {
        "id": "3iSC4F8icbH-",
        "colab": {
          "base_uri": "https://localhost:8080/"
        },
        "outputId": "7b25d432-d42e-44fa-c585-1137959f2ec8"
      },
      "outputs": [
        {
          "output_type": "stream",
          "name": "stdout",
          "text": [
            "Iteration: 0\n",
            "Iteration: 1\n",
            "Iteration: 2\n",
            "Iteration: 3\n",
            "Iteration: 4\n",
            "Iteration: 5\n",
            "Iteration: 6\n"
          ]
        }
      ],
      "source": [
        "#The pass statement is used as a placeholder for future code!!\n",
        "for num in range(7):\n",
        "    if num == 5:\n",
        "        #TODO: Add more code for the  case num = 5\n",
        "        pass\n",
        "    print(f'Iteration: {num}')"
      ]
    },
    {
      "cell_type": "markdown",
      "source": [
        "# Basic Section (End)"
      ],
      "metadata": {
        "id": "CBCnRvUV7d0A"
      }
    },
    {
      "cell_type": "markdown",
      "metadata": {
        "id": "AIgpCBxNcbH-"
      },
      "source": [
        "# Exceptions"
      ]
    },
    {
      "cell_type": "code",
      "execution_count": null,
      "metadata": {
        "scrolled": true,
        "id": "JnwzmK-fcbH_",
        "colab": {
          "base_uri": "https://localhost:8080/",
          "height": 222
        },
        "outputId": "b617cf9c-0c0b-4999-9d08-7e28bd78deb6"
      },
      "outputs": [
        {
          "output_type": "error",
          "ename": "ZeroDivisionError",
          "evalue": "ignored",
          "traceback": [
            "\u001b[0;31m---------------------------------------------------------------------------\u001b[0m",
            "\u001b[0;31mZeroDivisionError\u001b[0m                         Traceback (most recent call last)",
            "\u001b[0;32m<ipython-input-48-f191d6a35876>\u001b[0m in \u001b[0;36m<module>\u001b[0;34m\u001b[0m\n\u001b[0;32m----> 1\u001b[0;31m \u001b[0mprint\u001b[0m\u001b[0;34m(\u001b[0m\u001b[0;36m100\u001b[0m \u001b[0;34m/\u001b[0m \u001b[0;36m0\u001b[0m\u001b[0;34m)\u001b[0m\u001b[0;34m\u001b[0m\u001b[0;34m\u001b[0m\u001b[0m\n\u001b[0m\u001b[1;32m      2\u001b[0m \u001b[0;34m\u001b[0m\u001b[0m\n\u001b[1;32m      3\u001b[0m \u001b[0mprint\u001b[0m\u001b[0;34m(\u001b[0m\u001b[0;36m100\u001b[0m \u001b[0;34m/\u001b[0m \u001b[0;36m10\u001b[0m\u001b[0;34m)\u001b[0m\u001b[0;34m\u001b[0m\u001b[0;34m\u001b[0m\u001b[0m\n",
            "\u001b[0;31mZeroDivisionError\u001b[0m: division by zero"
          ]
        }
      ],
      "source": [
        "print(100 / 0)\n",
        "\n",
        "print(100 / 10)"
      ]
    },
    {
      "cell_type": "code",
      "source": [
        "benson"
      ],
      "metadata": {
        "colab": {
          "base_uri": "https://localhost:8080/",
          "height": 187
        },
        "id": "uWlHvnNeatHx",
        "outputId": "ac89a087-bd98-4f0a-9c99-743d8aad5b7a"
      },
      "execution_count": null,
      "outputs": [
        {
          "output_type": "error",
          "ename": "NameError",
          "evalue": "ignored",
          "traceback": [
            "\u001b[0;31m---------------------------------------------------------------------------\u001b[0m",
            "\u001b[0;31mNameError\u001b[0m                                 Traceback (most recent call last)",
            "\u001b[0;32m<ipython-input-50-df09370614bd>\u001b[0m in \u001b[0;36m<module>\u001b[0;34m\u001b[0m\n\u001b[0;32m----> 1\u001b[0;31m \u001b[0mbenson\u001b[0m\u001b[0;34m\u001b[0m\u001b[0;34m\u001b[0m\u001b[0m\n\u001b[0m",
            "\u001b[0;31mNameError\u001b[0m: name 'benson' is not defined"
          ]
        }
      ]
    },
    {
      "cell_type": "code",
      "execution_count": null,
      "metadata": {
        "id": "hS2HnbUicbH_",
        "colab": {
          "base_uri": "https://localhost:8080/"
        },
        "outputId": "e07e9778-97df-4f12-9aba-83974ae5099e"
      },
      "outputs": [
        {
          "output_type": "stream",
          "name": "stdout",
          "text": [
            "Error: unsupported operand type(s) for /: 'int' and 'str'\n",
            "10.0\n"
          ]
        }
      ],
      "source": [
        "try:\n",
        "    print(100 / name )\n",
        "except ZeroDivisionError:\n",
        "    print(\"Error: don't divided by zero\")\n",
        "except Exception as e:\n",
        "    print(f\"Error: {e}\")\n",
        "\n",
        "print(100/10)"
      ]
    },
    {
      "cell_type": "markdown",
      "metadata": {
        "id": "t9SuUewucbH_"
      },
      "source": [
        "# Functions\n",
        "\n",
        "Functions are declared with the keyword `def`"
      ]
    },
    {
      "cell_type": "code",
      "execution_count": null,
      "metadata": {
        "id": "Z_e2gamgcbH_",
        "colab": {
          "base_uri": "https://localhost:8080/"
        },
        "outputId": "ed517ba1-377b-4507-a0d2-834d7539920a"
      },
      "outputs": [
        {
          "output_type": "execute_result",
          "data": {
            "text/plain": [
              "-1.0"
            ]
          },
          "metadata": {},
          "execution_count": 53
        }
      ],
      "source": [
        "# def tells python you're trying to declare a function\n",
        "def triangle_area(base, height):\n",
        "    #here are operations\n",
        "    #part of function\n",
        "    #etc\n",
        "    return 0.5 * base * height\n",
        "\n",
        "triangle_area(-1, 2)"
      ]
    },
    {
      "cell_type": "code",
      "execution_count": null,
      "metadata": {
        "id": "PGZOHcqwcbH_",
        "colab": {
          "base_uri": "https://localhost:8080/",
          "height": 343
        },
        "outputId": "2ddbc6f0-5cad-4543-9d81-76ed5bca68d5"
      },
      "outputs": [
        {
          "output_type": "error",
          "ename": "ValueError",
          "evalue": "ignored",
          "traceback": [
            "\u001b[0;31m---------------------------------------------------------------------------\u001b[0m",
            "\u001b[0;31mValueError\u001b[0m                                Traceback (most recent call last)",
            "\u001b[0;32m<ipython-input-54-60ff895cb19c>\u001b[0m in \u001b[0;36m<module>\u001b[0;34m\u001b[0m\n\u001b[1;32m      4\u001b[0m     \u001b[0;32mreturn\u001b[0m \u001b[0;36m0.5\u001b[0m \u001b[0;34m*\u001b[0m \u001b[0mbase\u001b[0m \u001b[0;34m*\u001b[0m \u001b[0mheight\u001b[0m\u001b[0;34m\u001b[0m\u001b[0;34m\u001b[0m\u001b[0m\n\u001b[1;32m      5\u001b[0m \u001b[0;34m\u001b[0m\u001b[0m\n\u001b[0;32m----> 6\u001b[0;31m \u001b[0mtriangle_area\u001b[0m\u001b[0;34m(\u001b[0m\u001b[0;34m-\u001b[0m\u001b[0;36m1\u001b[0m\u001b[0;34m,\u001b[0m \u001b[0;36m2\u001b[0m\u001b[0;34m)\u001b[0m\u001b[0;34m\u001b[0m\u001b[0;34m\u001b[0m\u001b[0m\n\u001b[0m",
            "\u001b[0;32m<ipython-input-54-60ff895cb19c>\u001b[0m in \u001b[0;36mtriangle_area\u001b[0;34m(base, height)\u001b[0m\n\u001b[1;32m      1\u001b[0m \u001b[0;32mdef\u001b[0m \u001b[0mtriangle_area\u001b[0m\u001b[0;34m(\u001b[0m\u001b[0mbase\u001b[0m\u001b[0;34m,\u001b[0m \u001b[0mheight\u001b[0m\u001b[0;34m)\u001b[0m\u001b[0;34m:\u001b[0m\u001b[0;34m\u001b[0m\u001b[0;34m\u001b[0m\u001b[0m\n\u001b[1;32m      2\u001b[0m     \u001b[0;32mif\u001b[0m \u001b[0mbase\u001b[0m \u001b[0;34m<\u001b[0m \u001b[0;36m0\u001b[0m \u001b[0;32mor\u001b[0m \u001b[0mheight\u001b[0m \u001b[0;34m<\u001b[0m \u001b[0;36m0\u001b[0m\u001b[0;34m:\u001b[0m\u001b[0;34m\u001b[0m\u001b[0;34m\u001b[0m\u001b[0m\n\u001b[0;32m----> 3\u001b[0;31m         \u001b[0;32mraise\u001b[0m \u001b[0mValueError\u001b[0m\u001b[0;34m(\u001b[0m\u001b[0;34m\"Base and height must be non-negative\"\u001b[0m\u001b[0;34m)\u001b[0m\u001b[0;34m\u001b[0m\u001b[0;34m\u001b[0m\u001b[0m\n\u001b[0m\u001b[1;32m      4\u001b[0m     \u001b[0;32mreturn\u001b[0m \u001b[0;36m0.5\u001b[0m \u001b[0;34m*\u001b[0m \u001b[0mbase\u001b[0m \u001b[0;34m*\u001b[0m \u001b[0mheight\u001b[0m\u001b[0;34m\u001b[0m\u001b[0;34m\u001b[0m\u001b[0m\n\u001b[1;32m      5\u001b[0m \u001b[0;34m\u001b[0m\u001b[0m\n",
            "\u001b[0;31mValueError\u001b[0m: Base and height must be non-negative"
          ]
        }
      ],
      "source": [
        "def triangle_area(base, height):\n",
        "    if base < 0 or height < 0:\n",
        "        raise ValueError(\"Base and height must be non-negative\")\n",
        "    return 0.5 * base * height\n",
        "\n",
        "triangle_area(-1, 2)"
      ]
    },
    {
      "cell_type": "code",
      "source": [
        "def triangle_area(base, height):\n",
        "    try: \n",
        "      if base < 0 or height < 0:\n",
        "          raise ValueError(\"Base and height must be non-negative\")\n",
        "      return 0.5 * base * height\n",
        "    except ValueError as e_value:\n",
        "      print(f\"Error, {e_value}, Try a different non-negative value\")\n",
        "    except Exception as e:\n",
        "      print(f\"Error, {e}\")\n",
        "\n",
        "triangle_area(-1, 2)"
      ],
      "metadata": {
        "id": "8kU0rC_cwR__",
        "colab": {
          "base_uri": "https://localhost:8080/"
        },
        "outputId": "0d097380-0dda-46ea-b13e-1752f49b21f6"
      },
      "execution_count": null,
      "outputs": [
        {
          "output_type": "stream",
          "name": "stdout",
          "text": [
            "Error, Base and height must be non-negative, Try a different non-negative value\n"
          ]
        }
      ]
    },
    {
      "cell_type": "code",
      "source": [
        "triangle_area('string', 2)"
      ],
      "metadata": {
        "colab": {
          "base_uri": "https://localhost:8080/"
        },
        "id": "XzExk7sk66_V",
        "outputId": "942eac94-9c1d-4e43-cea2-9801582c40c9"
      },
      "execution_count": null,
      "outputs": [
        {
          "output_type": "stream",
          "name": "stdout",
          "text": [
            "Error, '<' not supported between instances of 'str' and 'int'\n"
          ]
        }
      ]
    },
    {
      "cell_type": "code",
      "source": [
        "# add type hint\n",
        "def triangle_area(base: int, height: int):\n",
        "    try: \n",
        "      if base < 0 or height < 0:\n",
        "          raise ValueError(\"Base and height must be non-negative\")\n",
        "      return 0.5 * base * height\n",
        "    except ValueError as error:\n",
        "      print(f\"Error, {error}, Try a different value\")\n",
        "    except Exception as e:\n",
        "      print(f\"Error, {e}\")\n",
        "\n",
        "triangle_area(-1, 2)"
      ],
      "metadata": {
        "id": "FMH1PoNFId5c",
        "colab": {
          "base_uri": "https://localhost:8080/"
        },
        "outputId": "e139904e-643a-4cdc-e906-e0fea04d2c33"
      },
      "execution_count": null,
      "outputs": [
        {
          "output_type": "stream",
          "name": "stdout",
          "text": [
            "Error, Base and height must be non-negative, Try a different value\n"
          ]
        }
      ]
    },
    {
      "cell_type": "code",
      "source": [
        "?triangle_area"
      ],
      "metadata": {
        "id": "Pj5amrWV7GrF"
      },
      "execution_count": null,
      "outputs": []
    },
    {
      "cell_type": "code",
      "source": [
        "from typing import Union\n",
        "\n",
        "def triangle_area(base: Union[int, float], height: Union[int, float]):\n",
        "    try: \n",
        "      if base < 0 or height < 0:\n",
        "          raise ValueError(\"Base and height must be non-negative\")\n",
        "      return 0.5 * base * height\n",
        "    except ValueError as error:\n",
        "      print(f\"Error, {error}, Try a different value\")\n",
        "    except Exception as e:\n",
        "      print(f\"Error, {e}\")\n",
        "triangle_area(-1, 2)"
      ],
      "metadata": {
        "id": "dl3PTPsN-uRL",
        "colab": {
          "base_uri": "https://localhost:8080/"
        },
        "outputId": "f8bba521-c212-4d97-cc69-ced5fffa9ca0"
      },
      "execution_count": null,
      "outputs": [
        {
          "output_type": "stream",
          "name": "stdout",
          "text": [
            "Error, Base and height must be non-negative, Try a different value\n"
          ]
        }
      ]
    },
    {
      "cell_type": "code",
      "source": [
        "?triangle_area"
      ],
      "metadata": {
        "id": "VUHEQgVwQw3g"
      },
      "execution_count": null,
      "outputs": []
    },
    {
      "cell_type": "code",
      "source": [
        "?range"
      ],
      "metadata": {
        "id": "RM3b6s3Vb_hY"
      },
      "execution_count": null,
      "outputs": []
    },
    {
      "cell_type": "code",
      "source": [
        "from typing import Union\n",
        "\n",
        "def triangle_area(base: Union[int, float], height: Union[int, float]):\n",
        "    '''\n",
        "    Description: Triangle_area is a function that calculate the area of an triangle shape\n",
        "    Input: \n",
        "      - base: non-negative numeric input\n",
        "      - height: non-negative numeric input\n",
        "    Output:\n",
        "      - area  = 1/2 * base * height\n",
        "    '''\n",
        "    try: \n",
        "      if base < 0 or height < 0:\n",
        "          raise ValueError(\"Base and height must be non-negative\")\n",
        "      return 0.5 * base * height\n",
        "    except ValueError as error:\n",
        "      print(f\"Error, {error}, Try a different value\")\n",
        "    except Exception as e:\n",
        "      print(f\"Error, {e}\")\n",
        "\n",
        "triangle_area('string', 2)"
      ],
      "metadata": {
        "id": "5OYbDlfbI4xE",
        "colab": {
          "base_uri": "https://localhost:8080/"
        },
        "outputId": "a1d49b83-2a9b-45f5-9608-8bfaabca7597"
      },
      "execution_count": null,
      "outputs": [
        {
          "output_type": "stream",
          "name": "stdout",
          "text": [
            "Error, '<' not supported between instances of 'str' and 'int'\n"
          ]
        }
      ]
    },
    {
      "cell_type": "code",
      "source": [
        "?triangle_area"
      ],
      "metadata": {
        "id": "S8C3BFcKQfl4"
      },
      "execution_count": null,
      "outputs": []
    },
    {
      "cell_type": "code",
      "source": [
        "def triangle_area(base, height):\n",
        "    return 0.5 * base * height\n",
        "\n",
        "triangle_area(1, 2)"
      ],
      "metadata": {
        "id": "rGrcRFNKJXlC"
      },
      "execution_count": null,
      "outputs": []
    },
    {
      "cell_type": "markdown",
      "source": [
        "(Self-study: )\n",
        "1. Function can have multiple outputs\n",
        "2. Function input can also be a function\n",
        "3. Function input can have default values"
      ],
      "metadata": {
        "id": "OJAerURiINzY"
      }
    },
    {
      "cell_type": "code",
      "execution_count": null,
      "metadata": {
        "id": "XeY2DXh-cbIA"
      },
      "outputs": [],
      "source": [
        "# return multiple outputs\n",
        "def simple(a,b):\n",
        "    return a,b\n",
        "\n",
        "simple(1,2)"
      ]
    },
    {
      "cell_type": "code",
      "execution_count": null,
      "metadata": {
        "id": "PJTo39V0cbIA"
      },
      "outputs": [],
      "source": [
        "# everything in python is an object, and can be passed into a function\n",
        "def f(x):\n",
        "    return x+2\n",
        "\n",
        "def twice(g,x):\n",
        "    return g(g(x))\n",
        "\n",
        "twice(f,2) # + 4"
      ]
    },
    {
      "cell_type": "code",
      "execution_count": null,
      "metadata": {
        "id": "JPLXUkxccbIA"
      },
      "outputs": [],
      "source": [
        "def n_apply(f, x, n):\n",
        "    \"\"\"applies f to x n times\"\"\"\n",
        "    for _ in range(n):  # _ is dummy variable in iteration\n",
        "        x = f(x)\n",
        "    return x\n",
        "\n",
        "n_apply(f, 1, 5) # 1 + 2*5"
      ]
    },
    {
      "cell_type": "code",
      "execution_count": null,
      "metadata": {
        "id": "kY80quZccbIA"
      },
      "outputs": [],
      "source": [
        "def h(a, b, x=3,y=2):\n",
        "    return a * x + b*y"
      ]
    },
    {
      "cell_type": "code",
      "execution_count": null,
      "metadata": {
        "id": "LtWd0s1PcbIB"
      },
      "outputs": [],
      "source": [
        "h(1,1,y=1) #equivalent to h(1,1,3,1)"
      ]
    },
    {
      "cell_type": "markdown",
      "metadata": {
        "id": "QDqLQrCRcbIC"
      },
      "source": [
        "# Exercise 1\n",
        "\n",
        "(10 minutes)\n",
        "\n",
        "1. Print every power of 2 less than 10,000\n",
        "2. Write a function that takes two inputs, $a$ and $b$ and returns the value of $a+2b$\n",
        "3. Write a function takes a number $n$ as input, and prints all [Fibonacci numbers](https://en.wikipedia.org/wiki/Fibonacci_number) less than $n$"
      ]
    },
    {
      "cell_type": "code",
      "execution_count": null,
      "metadata": {
        "id": "eRDZk_LRcbIC"
      },
      "outputs": [],
      "source": [
        "#YOUR CODE HERE"
      ]
    },
    {
      "cell_type": "markdown",
      "metadata": {
        "id": "I2b0BxBScbIC"
      },
      "source": [
        "# Lists\n",
        "\n",
        "A list in Python is an ordered (and indexed) collection of objects"
      ]
    },
    {
      "cell_type": "code",
      "execution_count": null,
      "metadata": {
        "id": "rKH7rKi4cbID",
        "colab": {
          "base_uri": "https://localhost:8080/",
          "height": 73
        },
        "outputId": "aa4b305d-3f41-482b-89b0-e9fedc2754fb"
      },
      "outputs": [
        {
          "output_type": "stream",
          "name": "stdout",
          "text": [
            "['x', 1, 3.5]\n"
          ]
        },
        {
          "output_type": "execute_result",
          "data": {
            "text/plain": [
              "'x'"
            ],
            "application/vnd.google.colaboratory.intrinsic+json": {
              "type": "string"
            }
          },
          "metadata": {},
          "execution_count": 67
        }
      ],
      "source": [
        "# heterogeneous types\n",
        "a = ['x', 1, 3.5]\n",
        "print(a)\n",
        "a[0]"
      ]
    },
    {
      "cell_type": "markdown",
      "metadata": {
        "id": "4e3B3K73cbID"
      },
      "source": [
        "You can iterate over lists in a very natural way"
      ]
    },
    {
      "cell_type": "code",
      "execution_count": null,
      "metadata": {
        "id": "_iDpGx8XcbID",
        "colab": {
          "base_uri": "https://localhost:8080/"
        },
        "outputId": "630493c5-8474-4c24-a8a9-56d21e724f95"
      },
      "outputs": [
        {
          "output_type": "stream",
          "name": "stdout",
          "text": [
            "x\n",
            "1\n",
            "3.5\n"
          ]
        }
      ],
      "source": [
        "for word in a:\n",
        "    print(word)"
      ]
    },
    {
      "cell_type": "markdown",
      "metadata": {
        "id": "Q-4BiQMlcbID"
      },
      "source": [
        "Python indexing starts at 0."
      ]
    },
    {
      "cell_type": "code",
      "execution_count": null,
      "metadata": {
        "id": "nzyLV3cfcbID",
        "colab": {
          "base_uri": "https://localhost:8080/"
        },
        "outputId": "955eb99e-5164-435e-ec63-7797b2e261bd"
      },
      "outputs": [
        {
          "output_type": "execute_result",
          "data": {
            "text/plain": [
              "['x', 'overwritten', 3.5]"
            ]
          },
          "metadata": {},
          "execution_count": 69
        }
      ],
      "source": [
        "# mutable\n",
        "a[1] = \"overwritten\"\n",
        "a"
      ]
    },
    {
      "cell_type": "code",
      "execution_count": null,
      "metadata": {
        "id": "UzEMwS-HcbID",
        "colab": {
          "base_uri": "https://localhost:8080/"
        },
        "outputId": "971c6deb-91e1-4905-ff61-0bfd8bad1074"
      },
      "outputs": [
        {
          "output_type": "stream",
          "name": "stdout",
          "text": [
            "[<function f at 0x7f8f1abf8550>, [1, 2, 2.1]]\n"
          ]
        }
      ],
      "source": [
        "#can even put functions and other lists inside of lists!\n",
        "def f(x):\n",
        "    return xf\n",
        "\n",
        "b = [f, [1,2,2.1]]\n",
        "print(b)"
      ]
    },
    {
      "cell_type": "markdown",
      "metadata": {
        "id": "hIHhKPrwcbIE"
      },
      "source": [
        "You can append to lists using `.append()`, and do other operations, such as `pop()`, `insert()`, etc."
      ]
    },
    {
      "cell_type": "markdown",
      "metadata": {
        "id": "TvKPLJkdcbIF"
      },
      "source": [
        "Python terminology:\n",
        "* a list is a \"class\"\n",
        "* the variable `a` is an object, or instance of the class\n",
        "* `append()` is a method"
      ]
    },
    {
      "cell_type": "code",
      "source": [
        "?a.append"
      ],
      "metadata": {
        "id": "tMnL2rK5p979"
      },
      "execution_count": null,
      "outputs": []
    },
    {
      "cell_type": "code",
      "execution_count": null,
      "metadata": {
        "id": "YpybvVQLcbIE",
        "colab": {
          "base_uri": "https://localhost:8080/"
        },
        "outputId": "ab6676de-9e2d-4e4e-f40e-49d81b972112"
      },
      "outputs": [
        {
          "output_type": "stream",
          "name": "stdout",
          "text": [
            "[0]\n",
            "[0, 1]\n",
            "[0, 1, 2]\n",
            "[0, 1, 2, 3]\n",
            "[0, 1, 2, 3, 4]\n",
            "[0, 1, 2, 3, 4, 5]\n",
            "[0, 1, 2, 3, 4, 5, 6]\n",
            "[0, 1, 2, 3, 4, 5, 6, 7]\n",
            "[0, 1, 2, 3, 4, 5, 6, 7, 8]\n",
            "[0, 1, 2, 3, 4, 5, 6, 7, 8, 9]\n"
          ]
        }
      ],
      "source": [
        "a = []\n",
        "for i in range(10):\n",
        "    a.append(i)\n",
        "    print(a)"
      ]
    },
    {
      "cell_type": "code",
      "execution_count": null,
      "metadata": {
        "id": "ZvbESvwscbIE",
        "colab": {
          "base_uri": "https://localhost:8080/"
        },
        "outputId": "036c2f91-994b-4b88-8cca-1253e81af54f"
      },
      "outputs": [
        {
          "output_type": "stream",
          "name": "stdout",
          "text": [
            "Removed 9, a is now [0, 1, 2, 3, 4, 5, 6, 7, 8]\n",
            "Removed 8, a is now [0, 1, 2, 3, 4, 5, 6, 7]\n",
            "Removed 7, a is now [0, 1, 2, 3, 4, 5, 6]\n",
            "Removed 6, a is now [0, 1, 2, 3, 4, 5]\n",
            "Removed 5, a is now [0, 1, 2, 3, 4]\n",
            "Removed 4, a is now [0, 1, 2, 3]\n",
            "Removed 3, a is now [0, 1, 2]\n",
            "Removed 2, a is now [0, 1]\n",
            "Removed 1, a is now [0]\n",
            "Removed 0, a is now []\n"
          ]
        }
      ],
      "source": [
        "while len(a) > 0:\n",
        "    elt = a.pop()\n",
        "    print(f\"Removed {elt}, a is now {a}\")"
      ]
    },
    {
      "cell_type": "markdown",
      "source": [
        "(Self-study): \n",
        "1. How to insert an element at a specific index of list\n",
        "2. How to append all element in a list into another list"
      ],
      "metadata": {
        "id": "iQZY_rBhTZxC"
      }
    },
    {
      "cell_type": "code",
      "execution_count": null,
      "metadata": {
        "id": "VHJ7S5EAcbIE"
      },
      "outputs": [],
      "source": [
        "# Insert a value at a specific index\n",
        "a = [1,2,3]\n",
        "a.insert(1,'new value')\n",
        "print(a)"
      ]
    },
    {
      "cell_type": "code",
      "execution_count": null,
      "metadata": {
        "id": "ijH42byecbIE"
      },
      "outputs": [],
      "source": [
        "# Append all element inside a list into another list\n",
        "a = [1,2,3]\n",
        "b = [\"x\", \"y\"]\n",
        "a.extend(b) #same as a+b\n",
        "print(a)"
      ]
    },
    {
      "cell_type": "code",
      "execution_count": null,
      "metadata": {
        "id": "smAIZHNycbIE"
      },
      "outputs": [],
      "source": [
        "a+b"
      ]
    },
    {
      "cell_type": "markdown",
      "metadata": {
        "id": "la9LiI30cbIF"
      },
      "source": [
        "Lists in python are only implicitly collections of the objects that constitute them. Setting one array equal to another can lead to unexpected results:"
      ]
    },
    {
      "cell_type": "code",
      "execution_count": null,
      "metadata": {
        "id": "1OZGc_vWcbIF",
        "colab": {
          "base_uri": "https://localhost:8080/"
        },
        "outputId": "fac55585-dfe5-446e-a050-4f42013078c6"
      },
      "outputs": [
        {
          "output_type": "stream",
          "name": "stdout",
          "text": [
            "original a:, [1, 2, 3]\n",
            "original b:, [1, 2, 3]\n",
            "after edit...\n",
            "a:, [1, 2, 3]\n",
            "b:, ['edited', 2, 3]\n"
          ]
        }
      ],
      "source": [
        "a = [1, 2, 3]\n",
        "b = a.copy() # shallow\n",
        "# b = a \n",
        "print(f\"original a:, {a}\")\n",
        "print(f\"original b:, {b}\")\n",
        "b[0] = \"edited\"\n",
        "print(\"after edit...\")\n",
        "print(f\"a:, {a}\")\n",
        "print(f\"b:, {b}\")"
      ]
    },
    {
      "cell_type": "code",
      "execution_count": null,
      "metadata": {
        "id": "DrcqMWghcbIF"
      },
      "outputs": [],
      "source": [
        "a.copy?"
      ]
    },
    {
      "cell_type": "markdown",
      "metadata": {
        "id": "hBNPBcGJcbIF"
      },
      "source": [
        "A list only stores some pointers to locations in your computer's memory: when we wrote `b = a` Python created a new list `b` which shares its entries with `a`. \n",
        "\n",
        "The function `.copy()` will create a completely distinct copy with new objects."
      ]
    },
    {
      "cell_type": "markdown",
      "metadata": {
        "id": "s0oOi7ItcbIF"
      },
      "source": [
        "## List Comprehensions\n",
        "\n",
        "Python's list comprehensions let you create lists in a way that is reminiscent of set notation\n",
        "\n",
        "$$ S = \\{ x^2 ~\\mid~ 0 \\le x \\le 20, x\\mod 3 = 0\\}$$"
      ]
    },
    {
      "cell_type": "code",
      "source": [
        "S= []\n",
        "for x in range(21):\n",
        "    if x % 3 == 0:\n",
        "        S.append(x**2)\n",
        "S"
      ],
      "metadata": {
        "id": "rzUspLYBqy9l",
        "colab": {
          "base_uri": "https://localhost:8080/"
        },
        "outputId": "92ec3eeb-7499-4807-ebf9-8ac27589c6e4"
      },
      "execution_count": null,
      "outputs": [
        {
          "output_type": "execute_result",
          "data": {
            "text/plain": [
              "[0, 9, 36, 81, 144, 225, 324]"
            ]
          },
          "metadata": {},
          "execution_count": 76
        }
      ]
    },
    {
      "cell_type": "markdown",
      "metadata": {
        "id": "X72grtjTcbIG"
      },
      "source": [
        "Syntax is generally\n",
        "```python3\n",
        "S = [<elt> <for statement> <conditional>]\n",
        "```"
      ]
    },
    {
      "cell_type": "code",
      "execution_count": null,
      "metadata": {
        "id": "vzfGtb_vcbIG",
        "colab": {
          "base_uri": "https://localhost:8080/"
        },
        "outputId": "41a4a4f7-420e-43b6-d6a1-dbcc1dc2260f"
      },
      "outputs": [
        {
          "output_type": "execute_result",
          "data": {
            "text/plain": [
              "[0, 9, 36, 81, 144, 225, 324]"
            ]
          },
          "metadata": {},
          "execution_count": 94
        }
      ],
      "source": [
        "S = [x**2 for x in range(21) if x % 3 == 0]\n",
        "S"
      ]
    },
    {
      "cell_type": "code",
      "source": [
        "\n",
        "['yes' if v == 1 else 'no' if v == 2 else 'idle' for v in S]"
      ],
      "metadata": {
        "colab": {
          "base_uri": "https://localhost:8080/"
        },
        "id": "VtUzdppOmSP5",
        "outputId": "bc6afbbd-ef2e-4c6c-8e10-00d595c695db"
      },
      "execution_count": null,
      "outputs": [
        {
          "output_type": "execute_result",
          "data": {
            "text/plain": [
              "['idle', 'idle', 'idle', 'idle', 'idle', 'idle', 'idle']"
            ]
          },
          "metadata": {},
          "execution_count": 90
        }
      ]
    },
    {
      "cell_type": "markdown",
      "source": [
        "(Self-study)Try yourself with nested for loop~"
      ],
      "metadata": {
        "id": "JZ88hKsZNeNY"
      }
    },
    {
      "cell_type": "code",
      "execution_count": null,
      "metadata": {
        "id": "lsWtnruKcbIG"
      },
      "outputs": [],
      "source": [
        "S = []\n",
        "for i in range(2):\n",
        "    for j in range(2):\n",
        "        for k in range(2):\n",
        "            if (i + j + k)%2 == 0:\n",
        "                S += [(i,j,k)]\n",
        "\n",
        "S"
      ]
    },
    {
      "cell_type": "code",
      "execution_count": null,
      "metadata": {
        "id": "zj7PYS66cbIG"
      },
      "outputs": [],
      "source": [
        "# you aren't restricted to a single for loop\n",
        "S = [(i,j,k) for i in range(2) for j in range(2) for k in range(2) if (i + j + k)%2 == 0]\n",
        "S"
      ]
    },
    {
      "cell_type": "markdown",
      "metadata": {
        "id": "82HHUl5EcbIG"
      },
      "source": [
        "# Other Collections\n",
        "\n",
        "We've seen the `list` class, which is ordered/indexed, and mutable.  There are other Python collections that you may find useful:\n",
        "* `tuple` which is ordered/indexed, and immutable\n",
        "* `set` which is unordered/unindexed, mutable, and doesn't allow for duplicate elements\n",
        "* `dict` (dictionary), paired, which is unordered/unindexed, and mutable, with no duplicate keys."
      ]
    },
    {
      "cell_type": "code",
      "execution_count": null,
      "metadata": {
        "id": "xAry3xBbcbIG",
        "colab": {
          "base_uri": "https://localhost:8080/",
          "height": 239
        },
        "outputId": "8c5339aa-9a8c-429e-bd9e-80fbe1930010"
      },
      "outputs": [
        {
          "output_type": "stream",
          "name": "stdout",
          "text": [
            "(1, 2, 4)\n"
          ]
        },
        {
          "output_type": "error",
          "ename": "TypeError",
          "evalue": "ignored",
          "traceback": [
            "\u001b[0;31m---------------------------------------------------------------------------\u001b[0m",
            "\u001b[0;31mTypeError\u001b[0m                                 Traceback (most recent call last)",
            "\u001b[0;32m<ipython-input-80-f31883702f03>\u001b[0m in \u001b[0;36m<module>\u001b[0;34m\u001b[0m\n\u001b[1;32m      1\u001b[0m \u001b[0ma_tuple\u001b[0m \u001b[0;34m=\u001b[0m \u001b[0;34m(\u001b[0m\u001b[0;36m1\u001b[0m\u001b[0;34m,\u001b[0m \u001b[0;36m2\u001b[0m\u001b[0;34m,\u001b[0m \u001b[0;36m4\u001b[0m\u001b[0;34m)\u001b[0m\u001b[0;34m\u001b[0m\u001b[0;34m\u001b[0m\u001b[0m\n\u001b[1;32m      2\u001b[0m \u001b[0mprint\u001b[0m\u001b[0;34m(\u001b[0m\u001b[0ma_tuple\u001b[0m\u001b[0;34m)\u001b[0m\u001b[0;34m\u001b[0m\u001b[0;34m\u001b[0m\u001b[0m\n\u001b[0;32m----> 3\u001b[0;31m \u001b[0ma_tuple\u001b[0m\u001b[0;34m[\u001b[0m\u001b[0;36m0\u001b[0m\u001b[0;34m]\u001b[0m \u001b[0;34m=\u001b[0m \u001b[0;36m3\u001b[0m\u001b[0;34m\u001b[0m\u001b[0;34m\u001b[0m\u001b[0m\n\u001b[0m",
            "\u001b[0;31mTypeError\u001b[0m: 'tuple' object does not support item assignment"
          ]
        }
      ],
      "source": [
        "a_tuple = (1, 2, 4)\n",
        "print(a_tuple)\n",
        "a_tuple[0] = 3"
      ]
    },
    {
      "cell_type": "code",
      "execution_count": null,
      "metadata": {
        "id": "KVAXxz6UcbIH",
        "colab": {
          "base_uri": "https://localhost:8080/",
          "height": 239
        },
        "outputId": "f57b71ee-9d64-436e-b55a-70800f1c1bc7"
      },
      "outputs": [
        {
          "output_type": "stream",
          "name": "stdout",
          "text": [
            "{2, 3, 5}\n"
          ]
        },
        {
          "output_type": "error",
          "ename": "TypeError",
          "evalue": "ignored",
          "traceback": [
            "\u001b[0;31m---------------------------------------------------------------------------\u001b[0m",
            "\u001b[0;31mTypeError\u001b[0m                                 Traceback (most recent call last)",
            "\u001b[0;32m<ipython-input-82-de83d4403d0c>\u001b[0m in \u001b[0;36m<module>\u001b[0;34m\u001b[0m\n\u001b[1;32m      1\u001b[0m \u001b[0ma_set\u001b[0m \u001b[0;34m=\u001b[0m \u001b[0;34m{\u001b[0m\u001b[0;36m5\u001b[0m\u001b[0;34m,\u001b[0m \u001b[0;36m3\u001b[0m\u001b[0;34m,\u001b[0m \u001b[0;36m2\u001b[0m\u001b[0;34m,\u001b[0m \u001b[0;36m5\u001b[0m\u001b[0;34m}\u001b[0m\u001b[0;34m\u001b[0m\u001b[0;34m\u001b[0m\u001b[0m\n\u001b[1;32m      2\u001b[0m \u001b[0mprint\u001b[0m\u001b[0;34m(\u001b[0m\u001b[0ma_set\u001b[0m\u001b[0;34m)\u001b[0m\u001b[0;34m\u001b[0m\u001b[0;34m\u001b[0m\u001b[0m\n\u001b[0;32m----> 3\u001b[0;31m \u001b[0mprint\u001b[0m\u001b[0;34m(\u001b[0m\u001b[0ma_set\u001b[0m\u001b[0;34m[\u001b[0m\u001b[0;36m0\u001b[0m\u001b[0;34m]\u001b[0m\u001b[0;34m)\u001b[0m\u001b[0;34m\u001b[0m\u001b[0;34m\u001b[0m\u001b[0m\n\u001b[0m",
            "\u001b[0;31mTypeError\u001b[0m: 'set' object is not subscriptable"
          ]
        }
      ],
      "source": [
        "a_set = {5, 3, 2, 5}\n",
        "print(a_set)\n",
        "print(a_set[0])"
      ]
    },
    {
      "cell_type": "code",
      "execution_count": null,
      "metadata": {
        "id": "F9b-2Y1YcbIH",
        "colab": {
          "base_uri": "https://localhost:8080/"
        },
        "outputId": "1aa9a316-27f6-4643-dd62-7ea48f8f1720"
      },
      "outputs": [
        {
          "output_type": "stream",
          "name": "stdout",
          "text": [
            "After adding 6,   a_set:{2, 3, 5, 6}\n",
            "After removing 6, a_set:{2, 3, 5}\n"
          ]
        }
      ],
      "source": [
        "a_set.add(6)\n",
        "print(f\"After adding 6,   a_set:{a_set}\")\n",
        "a_set.remove(6)\n",
        "print(f\"After removing 6, a_set:{a_set}\")"
      ]
    },
    {
      "cell_type": "code",
      "execution_count": null,
      "metadata": {
        "id": "8eqTIXOXcbIH",
        "colab": {
          "base_uri": "https://localhost:8080/"
        },
        "outputId": "303399b6-0cbe-46cc-86dc-46640a2880da"
      },
      "outputs": [
        {
          "output_type": "execute_result",
          "data": {
            "text/plain": [
              "{2: 12, 'key_2': 'str', 'key_3': [13, 'value']}"
            ]
          },
          "metadata": {},
          "execution_count": 84
        }
      ],
      "source": [
        "a_dict = {} # {key0: value0, key1: value1}\n",
        "a_dict[2] = 12 # dict[key] = value\n",
        "a_dict[\"key_2\"] = 'str'\n",
        "a_dict[\"key_3\"] = [13, \"value\"]\n",
        "a_dict"
      ]
    },
    {
      "cell_type": "code",
      "source": [
        "print(a_dict[2])\n",
        "print(a_dict.get(2))"
      ],
      "metadata": {
        "id": "VawfIljer7Td",
        "colab": {
          "base_uri": "https://localhost:8080/"
        },
        "outputId": "7eedc4df-41bd-4e2c-b43b-d8adedf0416c"
      },
      "execution_count": null,
      "outputs": [
        {
          "output_type": "stream",
          "name": "stdout",
          "text": [
            "12\n",
            "12\n"
          ]
        }
      ]
    },
    {
      "cell_type": "code",
      "execution_count": null,
      "metadata": {
        "id": "7E6KY3rmcbIH",
        "colab": {
          "base_uri": "https://localhost:8080/"
        },
        "outputId": "9613d888-411c-4331-d819-f9dd577269bd"
      },
      "outputs": [
        {
          "output_type": "execute_result",
          "data": {
            "text/plain": [
              "{2: 'new value', 'key_2': 28, 'key_3': [13, 'value']}"
            ]
          },
          "metadata": {},
          "execution_count": 86
        }
      ],
      "source": [
        "a_dict_copy = {2: 'new value', 'key_2': 28, 'key_3': [13, 'value']}\n",
        "a_dict_copy"
      ]
    },
    {
      "cell_type": "markdown",
      "source": [
        "(Optional) More Advanced Collections in Python\n",
        "* [`OrderedDict`](https://docs.python.org/3/library/collections.html#ordereddict-objects) Dict ordered by keys\n",
        "* [`deque`](https://docs.python.org/3/library/collections.html#deque-objects): double-ended queue (generalization of stack and queue)\n",
        "* [`heapq`](https://docs.python.org/3/library/heapq.html) Priority Queue"
      ],
      "metadata": {
        "id": "DxnjXbSm0AO0"
      }
    },
    {
      "cell_type": "markdown",
      "metadata": {
        "id": "yPXV07ppcbIH"
      },
      "source": [
        "# Exercise 2\n",
        "\n",
        "**Lists**\n",
        "1. Create a list `['a', 'b', 'c']`\n",
        "2. use the `insert()` method to put the element `'d'` at index 1\n",
        "3. use the `remove()` method to delete the element `'b'` in the list\n",
        "\n",
        "**List comprehensions**\n",
        "1. What does the following list contain?\n",
        "```python \n",
        "X = [i for i in range(100)]\n",
        "```\n",
        "2. Interpret the following set as a list comprehension:\n",
        "$S_1 = \\{x\\in X \\mid x\\mod 5 = 2\\}$\n",
        "3. Intepret the following set as a list comprehension: $S_2 = \\{x \\in S_1 \\mid x \\text{ is even}\\}$\n",
        "4. generate the set of all tuples $(x,y)$ where $x\\in S_1$, $y\\in S_2$.\n",
        "\n",
        "**Other Collections**\n",
        "1. Try creating another type of collection\n",
        "2. try iterating over it."
      ]
    }
  ],
  "metadata": {
    "kernelspec": {
      "display_name": "Python 3",
      "language": "python",
      "name": "python3"
    },
    "language_info": {
      "codemirror_mode": {
        "name": "ipython",
        "version": 3
      },
      "file_extension": ".py",
      "mimetype": "text/x-python",
      "name": "python",
      "nbconvert_exporter": "python",
      "pygments_lexer": "ipython3",
      "version": "3.8.5"
    },
    "colab": {
      "provenance": [],
      "collapsed_sections": [
        "IB20Lo4pcbHr",
        "CyZW8H_CcbHu",
        "QDqLQrCRcbIC",
        "yPXV07ppcbIH",
        "JDqsC8xBcbII",
        "5GJRzKoccbII"
      ],
      "toc_visible": true,
      "include_colab_link": true
    }
  },
  "nbformat": 4,
  "nbformat_minor": 0
}